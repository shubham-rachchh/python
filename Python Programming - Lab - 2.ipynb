{
 "cells": [
  {
   "cell_type": "markdown",
   "metadata": {},
   "source": [
    "\n",
    "<a href='https://www.darshan.ac.in/'> <img src='https://www.darshan.ac.in/Content/media/DU_Logo.svg' width=\"250\" height=\"300\"/></a>\n",
    "<pre>\n",
    "<center><b><h1>Python Programming - 2301CS404</b></center>\n",
    "<center><b><h1>Lab - 2</b></center>    \n",
    "<center><b><h1>Malay Panara | 23010101184 | 4/12/2024</b></center>    \n",
    "<pre>"
   ]
  },
  {
   "cell_type": "markdown",
   "metadata": {},
   "source": [
    "# if..else.."
   ]
  },
  {
   "cell_type": "markdown",
   "metadata": {},
   "source": [
    "### 01) WAP to check whether the given number is positive or negative."
   ]
  },
  {
   "cell_type": "code",
   "execution_count": 1,
   "metadata": {},
   "outputs": [
    {
     "name": "stdin",
     "output_type": "stream",
     "text": [
      "Enter a number: -8\n"
     ]
    },
    {
     "name": "stdout",
     "output_type": "stream",
     "text": [
      "Number is negative!!\n"
     ]
    }
   ],
   "source": [
    "n=int(input(\"Enter a number:\"));\n",
    "if(n>=0):\n",
    "    print(\"Number is positive!!\");\n",
    "else:\n",
    "    print(\"Number is negative!!\");"
   ]
  },
  {
   "cell_type": "markdown",
   "metadata": {},
   "source": [
    "### 02) WAP to check whether the given number is odd or even."
   ]
  },
  {
   "cell_type": "code",
   "execution_count": 3,
   "metadata": {},
   "outputs": [
    {
     "name": "stdin",
     "output_type": "stream",
     "text": [
      "Enter a number: 8\n"
     ]
    },
    {
     "name": "stdout",
     "output_type": "stream",
     "text": [
      "Number is even!!\n"
     ]
    }
   ],
   "source": [
    "n=int(input(\"Enter a number:\"));\n",
    "if(n%2==0):\n",
    "    print(\"Number is even!!\");\n",
    "else:\n",
    "    print(\"Number is odd!!\");"
   ]
  },
  {
   "cell_type": "markdown",
   "metadata": {},
   "source": [
    "### 03) WAP to find out largest number from given two numbers using simple if and ternary operator."
   ]
  },
  {
   "cell_type": "code",
   "execution_count": 7,
   "metadata": {},
   "outputs": [
    {
     "name": "stdin",
     "output_type": "stream",
     "text": [
      "Enter a number(n): 8\n",
      "Enter a number(m): 9\n"
     ]
    },
    {
     "name": "stdout",
     "output_type": "stream",
     "text": [
      "Number m is larger!\n"
     ]
    },
    {
     "name": "stdin",
     "output_type": "stream",
     "text": [
      "Enter a number(n): 8\n",
      "Enter a number(m): 9\n"
     ]
    },
    {
     "name": "stdout",
     "output_type": "stream",
     "text": [
      "m is larger!!\n"
     ]
    }
   ],
   "source": [
    "#if..else..\n",
    "n=int(input(\"Enter a number(n):\"));\n",
    "m=int(input(\"Enter a number(m):\"));\n",
    "if(n>m):\n",
    "    print(\"Number n is larger!\");\n",
    "else:\n",
    "    print(\"Number m is larger!\");\n",
    "    \n",
    "#Ternary operator\n",
    "n=int(input(\"Enter a number(n):\"));\n",
    "m=int(input(\"Enter a number(m):\"));\n",
    "a=\"n is larger!!\" if n>m else \"m is larger!!\";\n",
    "print(a);"
   ]
  },
  {
   "cell_type": "markdown",
   "metadata": {},
   "source": [
    "### 04) WAP to find out largest number from given three numbers."
   ]
  },
  {
   "cell_type": "code",
   "execution_count": 9,
   "metadata": {},
   "outputs": [
    {
     "name": "stdin",
     "output_type": "stream",
     "text": [
      "Enter a number(n1): 7\n",
      "Enter a number(n2): 8\n",
      "Enter a number(n3): 9\n"
     ]
    },
    {
     "name": "stdout",
     "output_type": "stream",
     "text": [
      "9 is largest!!\n"
     ]
    }
   ],
   "source": [
    "n1=int(input(\"Enter a number(n1):\"));\n",
    "n2=int(input(\"Enter a number(n2):\"));\n",
    "n3=int(input(\"Enter a number(n3):\"));\n",
    "if(n1>=n2):\n",
    "    if(n1>=n3):\n",
    "        print(f\"{n1} is largest!!\");\n",
    "    else:\n",
    "        print(f\"{n3} is largest!!\");\n",
    "else:\n",
    "    if(n2>=n3):\n",
    "        print(f\"{n2} is largest!!\");\n",
    "    else:\n",
    "        print(f\"{n3} is largest!!\");"
   ]
  },
  {
   "cell_type": "markdown",
   "metadata": {},
   "source": [
    "### 05) WAP to check whether the given year is leap year or not.\n",
    "[If a year can be divisible by 4 but not divisible by 100 then it is leap year but if it is divisible by 400 then it is leap year]"
   ]
  },
  {
   "cell_type": "code",
   "execution_count": 11,
   "metadata": {},
   "outputs": [
    {
     "name": "stdin",
     "output_type": "stream",
     "text": [
      "Enter the year:  2024\n"
     ]
    },
    {
     "name": "stdout",
     "output_type": "stream",
     "text": [
      "2024 is Leap year\n"
     ]
    }
   ],
   "source": [
    "year = int(input('Enter the year: '));\n",
    "\n",
    "if ((year%4 == 0 and year%100 != 0) or year%400 == 0):\n",
    "    print(f'{year} is Leap year')\n",
    "else:\n",
    "    print(f'{year} is not Leap year');"
   ]
  },
  {
   "cell_type": "markdown",
   "metadata": {},
   "source": [
    "### 06) WAP in python to display the name of the day according to the number given by the user."
   ]
  },
  {
   "cell_type": "code",
   "execution_count": 13,
   "metadata": {},
   "outputs": [
    {
     "name": "stdin",
     "output_type": "stream",
     "text": [
      "Enter the number of day:  7\n"
     ]
    },
    {
     "name": "stdout",
     "output_type": "stream",
     "text": [
      "Today is sunday\n"
     ]
    }
   ],
   "source": [
    "day = int(input('Enter the number of day: '))\n",
    "\n",
    "match day:\n",
    "    case 1:\n",
    "        print('Today is monday')\n",
    "    case 2:\n",
    "        print('Today is tuesday')\n",
    "    case 3:\n",
    "        print('Today is wednesday')\n",
    "    case 4:\n",
    "        print('Today is thusday')\n",
    "    case 5:\n",
    "        print('Today is friday')\n",
    "    case 6:\n",
    "        print('Today is saturday')\n",
    "    case 7:\n",
    "        print('Today is sunday')\n",
    "    case _:\n",
    "        print('Invalid number')"
   ]
  },
  {
   "cell_type": "markdown",
   "metadata": {},
   "source": [
    "### 07) WAP to implement simple calculator which performs (add,sub,mul,div) of two no. based on user input."
   ]
  },
  {
   "cell_type": "code",
   "execution_count": 15,
   "metadata": {},
   "outputs": [
    {
     "name": "stdin",
     "output_type": "stream",
     "text": [
      "Enter a number(n): 7\n",
      "Enter a number(m): 5\n",
      "Enter a operator: /\n"
     ]
    },
    {
     "name": "stdout",
     "output_type": "stream",
     "text": [
      "Division: 1.4\n"
     ]
    }
   ],
   "source": [
    "n=int(input(\"Enter a number(n):\"));\n",
    "m=int(input(\"Enter a number(m):\"));\n",
    "p=str(input(\"Enter a operator:\"));\n",
    "if(p==\"+\"):\n",
    "    print(\"Addition:\",n+m);\n",
    "elif(p==\"-\"):\n",
    "    print(\"Subtraction:\",n-m);\n",
    "elif(p==\"*\"):\n",
    "    print(\"Multiplication:\",n*m);\n",
    "elif(p==\"/\"):\n",
    "    print(\"Division:\",n/m);"
   ]
  },
  {
   "cell_type": "markdown",
   "metadata": {},
   "source": [
    "### 08) WAP to read marks of five subjects. Calculate percentage and print class accordingly. \n",
    "Fail below 35 </br>\n",
    "Pass Class between 35 to 45 </br>\n",
    "Second Class</br>\n",
    "between 45 to 60</br>\n",
    "First Class between 60 to 70</br> \n",
    "Distinction if more than 70"
   ]
  },
  {
   "cell_type": "code",
   "execution_count": 19,
   "metadata": {},
   "outputs": [
    {
     "name": "stdin",
     "output_type": "stream",
     "text": [
      "Enter marks of subject1:  55\n",
      "Enter marks of subject2:  66\n",
      "Enter marks of subject3:  88\n",
      "Enter marks of subject4:  77\n",
      "Enter marks of subject5:  99\n"
     ]
    },
    {
     "name": "stdout",
     "output_type": "stream",
     "text": [
      "77.0\n",
      "Class:Distinction\n"
     ]
    }
   ],
   "source": [
    "s1 = int(input('Enter marks of subject1: '));\n",
    "s2 = int(input('Enter marks of subject2: '))\n",
    "s3 = int(input('Enter marks of subject3: '))\n",
    "s4 = int(input('Enter marks of subject4: '))\n",
    "s5 = int(input('Enter marks of subject5: '))\n",
    "\n",
    "result=(s1+s2+s3+s4+s5)/5;\n",
    "print(result);\n",
    "\n",
    "if(result<35):\n",
    "    print(\"Class:Fail\");\n",
    "elif(result>=35 and result<45):\n",
    "    print(\"Class Pass\")\n",
    "elif(result>=45 and result<60):\n",
    "    print(\"Class:Second\");\n",
    "elif(result>=60 and result<70):\n",
    "    print(\"Class:First\");\n",
    "elif(result>=70):\n",
    "    print(\"Class:Distinction\")"
   ]
  },
  {
   "cell_type": "markdown",
   "metadata": {},
   "source": [
    "### 09) Three sides of a triangle are entered through the keyboard, WAP to check whether the triangle is isosceles, equilateral, scalene or right-angled triangle."
   ]
  },
  {
   "cell_type": "code",
   "execution_count": 4,
   "metadata": {},
   "outputs": [
    {
     "name": "stdin",
     "output_type": "stream",
     "text": [
      "Enter the first side:  7\n",
      "Enter the second side:  24\n",
      "Enter the third side:  25\n"
     ]
    },
    {
     "name": "stdout",
     "output_type": "stream",
     "text": [
      "The triangle is Right-angled.\n",
      "The triangle is Scalene.\n"
     ]
    }
   ],
   "source": [
    "a = float(input(\"Enter the first side: \"))\n",
    "b = float(input(\"Enter the second side: \"))\n",
    "c = float(input(\"Enter the third side: \"))\n",
    "\n",
    "if a + b > c and a + c > b and b + c > a:\n",
    "    if a**2 + b**2 == c**2 or a**2 + c**2 == b**2 or b**2 + c**2 == a**2:\n",
    "        print(\"The triangle is Right-angled.\")\n",
    "    if a == b == c:\n",
    "        print(\"The triangle is Equilateral.\")\n",
    "    elif a == b or b == c or a == c:\n",
    "        print(\"The triangle is Isosceles.\")\n",
    "    else:\n",
    "        print(\"The triangle is Scalene.\")\n",
    "else:\n",
    "    print(\"The given sides do not form a valid triangle.\")"
   ]
  },
  {
   "cell_type": "markdown",
   "metadata": {},
   "source": [
    "### 10) WAP to find the second largest number among three user input numbers."
   ]
  },
  {
   "cell_type": "code",
   "execution_count": 23,
   "metadata": {},
   "outputs": [
    {
     "name": "stdin",
     "output_type": "stream",
     "text": [
      "Enter the first number:  7\n",
      "Enter the second number:  8\n",
      "Enter the third number:  9\n"
     ]
    },
    {
     "name": "stdout",
     "output_type": "stream",
     "text": [
      "Second number is second largest\n"
     ]
    }
   ],
   "source": [
    "a = int(input('Enter the first number: '))\n",
    "b = int(input('Enter the second number: '))\n",
    "c = int(input('Enter the third number: '))\n",
    "\n",
    "if (a > b and a < c):\n",
    "    print('First number is second largest');\n",
    "elif (b > a and b < c):\n",
    "    print('Second number is second largest');\n",
    "else:\n",
    "    print('Third number is second largest');"
   ]
  },
  {
   "cell_type": "markdown",
   "metadata": {},
   "source": [
    "### 11) WAP to calculate electricity bill based on following criteria. Which takes the unit from the user.\n",
    "a. First 1 to 50 units – Rs. 2.60/unit</br>\n",
    "b. Next 50 to 100 units – Rs. 3.25/unit</br>\n",
    "c. Next 100 to 200 units – Rs. 5.26/unit</br>\n",
    "d. above 200 units – Rs. 8.45/unit"
   ]
  },
  {
   "cell_type": "code",
   "execution_count": 25,
   "metadata": {},
   "outputs": [
    {
     "name": "stdin",
     "output_type": "stream",
     "text": [
      "Enter the number of units:  50\n"
     ]
    },
    {
     "name": "stdout",
     "output_type": "stream",
     "text": [
      "Your electricity bill is 130.0\n"
     ]
    }
   ],
   "source": [
    "units = int(input('Enter the number of units: '))\n",
    "case = 0\n",
    "if units > 0 and units < 50:\n",
    "    case = 1\n",
    "elif units >= 50 and units < 100:\n",
    "    case = 2\n",
    "elif units >= 100 and units < 200:\n",
    "    case = 3\n",
    "elif units > 200:\n",
    "    case = 4\n",
    "rate = 0\n",
    "match case:\n",
    "    case 1:\n",
    "        rate = units * 2.6\n",
    "        print(f'Your electricity bill is {rate}')\n",
    "    case 2:\n",
    "        rate = (50 * 2.6) + ((units - 50) * 3.25)\n",
    "        print(f'Your electricity bill is {rate}')\n",
    "    case 3:\n",
    "        rate = (50 * 2.6) + (50 * 3.25) + ((units - 100) * 5.26)\n",
    "        print(f'Your electricity bill is {rate}')\n",
    "    case 4:\n",
    "        rate = (50 * 2.6) + (50 * 3.25) + (100 * 5.26) + ((units - 200) * 8.45)\n",
    "        print(f'Your electricity bill is {rate}')"
   ]
  },
  {
   "cell_type": "code",
   "execution_count": null,
   "metadata": {},
   "outputs": [],
   "source": []
  }
 ],
 "metadata": {
  "kernelspec": {
   "display_name": "Python 3 (ipykernel)",
   "language": "python",
   "name": "python3"
  },
  "language_info": {
   "codemirror_mode": {
    "name": "ipython",
    "version": 3
   },
   "file_extension": ".py",
   "mimetype": "text/x-python",
   "name": "python",
   "nbconvert_exporter": "python",
   "pygments_lexer": "ipython3",
   "version": "3.12.7"
  }
 },
 "nbformat": 4,
 "nbformat_minor": 4
}
