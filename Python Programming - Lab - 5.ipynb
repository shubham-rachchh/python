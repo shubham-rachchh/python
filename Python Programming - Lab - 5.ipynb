{
 "cells": [
  {
   "cell_type": "markdown",
   "metadata": {},
   "source": [
    "\n",
    "<a href='https://www.darshan.ac.in/'> <img src='https://www.darshan.ac.in/Content/media/DU_Logo.svg' width=\"250\" height=\"300\"/></a>\n",
    "<pre>\n",
    "<center><b><h1>Python Programming - 2301CS404</b></center>\n",
    "<center><b><h1>Malay Panara | 23010101184 | 01/01/2025</b></center>\n",
    "<center><b><h1>Lab - 5</b></center>\n",
    "<pre>"
   ]
  },
  {
   "cell_type": "markdown",
   "metadata": {},
   "source": [
    "# List"
   ]
  },
  {
   "cell_type": "markdown",
   "metadata": {},
   "source": [
    "### 01) WAP to find sum of all the elements in a List."
   ]
  },
  {
   "cell_type": "code",
   "execution_count": 2,
   "metadata": {},
   "outputs": [
    {
     "name": "stdout",
     "output_type": "stream",
     "text": [
      "15\n"
     ]
    }
   ],
   "source": [
    "l1=[1,2,3,4,5]\n",
    "print(sum(l1))"
   ]
  },
  {
   "cell_type": "markdown",
   "metadata": {},
   "source": [
    "### 02) WAP to find largest element in a List."
   ]
  },
  {
   "cell_type": "code",
   "execution_count": 4,
   "metadata": {},
   "outputs": [
    {
     "name": "stdout",
     "output_type": "stream",
     "text": [
      "5\n"
     ]
    }
   ],
   "source": [
    "l1=[1,2,3,4,5]\n",
    "print(max(l1))"
   ]
  },
  {
   "cell_type": "markdown",
   "metadata": {},
   "source": [
    "### 03) WAP to find the length of a List."
   ]
  },
  {
   "cell_type": "code",
   "execution_count": 8,
   "metadata": {},
   "outputs": [
    {
     "name": "stdout",
     "output_type": "stream",
     "text": [
      "10\n"
     ]
    }
   ],
   "source": [
    "l1=[1,2,3,4,5,6,7,8,9,10]\n",
    "print(len(l1))"
   ]
  },
  {
   "cell_type": "markdown",
   "metadata": {},
   "source": [
    "### 04) WAP to interchange first and last elements in a list."
   ]
  },
  {
   "cell_type": "code",
   "execution_count": 10,
   "metadata": {},
   "outputs": [
    {
     "name": "stdout",
     "output_type": "stream",
     "text": [
      "[6, 2, 3, 4, 5, 1]\n"
     ]
    }
   ],
   "source": [
    "l1=[1,2,3,4,5,6]\n",
    "l1[0],l1[-1]=l1[-1],l1[0]\n",
    "print(l1)"
   ]
  },
  {
   "cell_type": "markdown",
   "metadata": {},
   "source": [
    "### 05) WAP to split the List into two parts and append the first part to the end."
   ]
  },
  {
   "cell_type": "code",
   "execution_count": 24,
   "metadata": {},
   "outputs": [
    {
     "name": "stdout",
     "output_type": "stream",
     "text": [
      "[4, 5, 6, 1, 2, 3]\n"
     ]
    }
   ],
   "source": [
    "l1=[1,2,3,4,5,6]\n",
    "mid=len(l1)//2\n",
    "x=l1[:mid]\n",
    "y=l1[mid:]\n",
    "print(y+x)"
   ]
  },
  {
   "cell_type": "markdown",
   "metadata": {},
   "source": [
    "### 06) WAP to interchange the elements on two positions entered by a user."
   ]
  },
  {
   "cell_type": "code",
   "execution_count": 47,
   "metadata": {},
   "outputs": [
    {
     "name": "stdin",
     "output_type": "stream",
     "text": [
      "Enter length of list: 5\n",
      "Element 1: 0\n",
      "Element 2: 1\n",
      "Element 3: 2\n",
      "Element 4: 3\n",
      "Element 5: 4\n",
      "Enter a position: 1\n",
      "Enter a position: 3\n"
     ]
    },
    {
     "name": "stdout",
     "output_type": "stream",
     "text": [
      "List after interchange is: [0, 3, 2, 1, 4]\n"
     ]
    }
   ],
   "source": [
    "n=int(input('Enter length of list:'))\n",
    "l1=[]\n",
    "for i in range(n):\n",
    "    a=int(input(f'Element {i+1}:'))\n",
    "    l1.append(a)\n",
    "x=int(input('Enter a position:'))\n",
    "y=int(input('Enter a position:'))\n",
    "l1[x], l1[y] = l1[y], l1[x]\n",
    "print(f'List after interchange is: {l1}')"
   ]
  },
  {
   "cell_type": "markdown",
   "metadata": {},
   "source": [
    "### 07) WAP to reverse the list entered by user."
   ]
  },
  {
   "cell_type": "code",
   "execution_count": 49,
   "metadata": {},
   "outputs": [
    {
     "name": "stdin",
     "output_type": "stream",
     "text": [
      "Enter length of list: 4\n",
      "Element 1: 1\n",
      "Element 2: 2\n",
      "Element 3: 3\n",
      "Element 4: 4\n"
     ]
    },
    {
     "name": "stdout",
     "output_type": "stream",
     "text": [
      "[4, 3, 2, 1]\n"
     ]
    }
   ],
   "source": [
    "n=int(input('Enter length of list:'))\n",
    "l1=[]\n",
    "for i in range(n):\n",
    "    a=int(input(f'Element {i+1}:'))\n",
    "    l1.append(a)\n",
    "l2=l1[::-1]\n",
    "print(l2)"
   ]
  },
  {
   "cell_type": "markdown",
   "metadata": {},
   "source": [
    "### 08) WAP to print even numbers in a list."
   ]
  },
  {
   "cell_type": "code",
   "execution_count": 53,
   "metadata": {},
   "outputs": [
    {
     "name": "stdin",
     "output_type": "stream",
     "text": [
      "Enter length of list: 4\n",
      "Element 1: 0\n",
      "Element 2: 1\n",
      "Element 3: 2\n",
      "Element 4: 3\n"
     ]
    },
    {
     "name": "stdout",
     "output_type": "stream",
     "text": [
      "[0, 2]\n"
     ]
    }
   ],
   "source": [
    "n=int(input('Enter length of list:'))\n",
    "l1=[]\n",
    "for i in range(n):\n",
    "    a=int(input(f'Element {i+1}:'))\n",
    "    l1.append(a)\n",
    "l2=[i for i in l1 if(i%2==0)]\n",
    "print(l2)"
   ]
  },
  {
   "cell_type": "markdown",
   "metadata": {},
   "source": [
    "### 09) WAP to count unique items in a list."
   ]
  },
  {
   "cell_type": "code",
   "execution_count": 79,
   "metadata": {},
   "outputs": [
    {
     "name": "stdout",
     "output_type": "stream",
     "text": [
      "8\n"
     ]
    }
   ],
   "source": [
    "l1=[1,1,1,1,2,2,3,3,4,5,6,8,8,9]\n",
    "l2=[]\n",
    "count=0\n",
    "for i in l1:\n",
    "    if i not in l2:\n",
    "        count+=1\n",
    "        l2.append(i)\n",
    "print(count)"
   ]
  },
  {
   "cell_type": "markdown",
   "metadata": {},
   "source": [
    "### 10) WAP to copy a list."
   ]
  },
  {
   "cell_type": "code",
   "execution_count": 81,
   "metadata": {},
   "outputs": [
    {
     "name": "stdout",
     "output_type": "stream",
     "text": [
      "[1, 2, 3, 4, 5, 6, 7, 8, 9]\n"
     ]
    }
   ],
   "source": [
    "l1=[1,2,3,4,5,6,7,8,9]\n",
    "l2=l1.copy()\n",
    "print(l2)"
   ]
  },
  {
   "cell_type": "markdown",
   "metadata": {},
   "source": [
    "### 11) WAP to print all odd numbers in a given range."
   ]
  },
  {
   "cell_type": "code",
   "execution_count": 91,
   "metadata": {},
   "outputs": [
    {
     "name": "stdin",
     "output_type": "stream",
     "text": [
      "Enter a number: 1\n",
      "Enter a number: 12\n"
     ]
    },
    {
     "name": "stdout",
     "output_type": "stream",
     "text": [
      "[1, 3, 5, 7, 9, 11]\n"
     ]
    }
   ],
   "source": [
    "x=int(input('Enter a number:'))\n",
    "y=int(input('Enter a number:'))\n",
    "l1=[]\n",
    "for i in range(x,y):\n",
    "    if(i%2!=0):\n",
    "        l1.append(i)\n",
    "print(l1)"
   ]
  },
  {
   "cell_type": "markdown",
   "metadata": {},
   "source": [
    "### 12) WAP to count occurrences of an element in a list."
   ]
  },
  {
   "cell_type": "code",
   "execution_count": 9,
   "metadata": {},
   "outputs": [
    {
     "name": "stdin",
     "output_type": "stream",
     "text": [
      "Enter length of list: 6\n",
      "Element 1: 1\n",
      "Element 2: 11\n",
      "Element 3: 1\n",
      "Element 4: 2\n",
      "Element 5: 3\n",
      "Element 6: 4\n",
      "Enter number to be counted: 1\n"
     ]
    },
    {
     "name": "stdout",
     "output_type": "stream",
     "text": [
      "2\n"
     ]
    }
   ],
   "source": [
    "n=int(input('Enter length of list:'))\n",
    "l1=[]\n",
    "for i in range(n):\n",
    "    a=int(input(f'Element {i+1}:'))\n",
    "    l1.append(a)\n",
    "k=int(input('Enter number to be counted:'))\n",
    "l2=l1.count(k)\n",
    "print(l2)"
   ]
  },
  {
   "cell_type": "markdown",
   "metadata": {},
   "source": [
    "### 13) WAP to find second largest number in a list."
   ]
  },
  {
   "cell_type": "code",
   "execution_count": 11,
   "metadata": {},
   "outputs": [
    {
     "name": "stdin",
     "output_type": "stream",
     "text": [
      "Enter length of list: 8\n",
      "Element 1: 1\n",
      "Element 2: 2\n",
      "Element 3: 3\n",
      "Element 4: 4\n",
      "Element 5: 5\n",
      "Element 6: 6\n",
      "Element 7: 7\n",
      "Element 8: 8\n"
     ]
    },
    {
     "name": "stdout",
     "output_type": "stream",
     "text": [
      "7\n"
     ]
    }
   ],
   "source": [
    "n=int(input('Enter length of list:'))\n",
    "l1=[]\n",
    "for i in range(n):\n",
    "    a=int(input(f'Element {i+1}:'))\n",
    "    l1.append(a)\n",
    "l1.sort()\n",
    "l2=l1[len(l1)-2]\n",
    "print(l2)"
   ]
  },
  {
   "cell_type": "markdown",
   "metadata": {},
   "source": [
    "### 14) WAP to extract elements with frequency greater than K."
   ]
  },
  {
   "cell_type": "code",
   "execution_count": 7,
   "metadata": {},
   "outputs": [
    {
     "name": "stdin",
     "output_type": "stream",
     "text": [
      "Enter a element for list (Enter \"f\" to terminate):  1\n",
      "Enter a element for list (Enter \"f\" to terminate):  1\n",
      "Enter a element for list (Enter \"f\" to terminate):  11\n",
      "Enter a element for list (Enter \"f\" to terminate):  1\n",
      "Enter a element for list (Enter \"f\" to terminate):  2\n",
      "Enter a element for list (Enter \"f\" to terminate):  2\n",
      "Enter a element for list (Enter \"f\" to terminate):  23\n",
      "Enter a element for list (Enter \"f\" to terminate):  3\n",
      "Enter a element for list (Enter \"f\" to terminate):  2\n",
      "Enter a element for list (Enter \"f\" to terminate):  f\n",
      "Enter the frequency:  2\n"
     ]
    },
    {
     "name": "stdout",
     "output_type": "stream",
     "text": [
      "The element that occured more than 2 times are: [1, 2]\n"
     ]
    }
   ],
   "source": [
    "list = []\n",
    "flag = True\n",
    "while flag == True:\n",
    "    element = input('Enter a element for list (Enter \"f\" to terminate): ')\n",
    "    if element == 'f':\n",
    "        break\n",
    "    else:\n",
    "        element = int(element)\n",
    "    list.append(element)\n",
    "\n",
    "k = int(input('Enter the frequency: '))\n",
    "\n",
    "frequencyDict = {}\n",
    "for i in list:\n",
    "    if i in frequencyDict:\n",
    "        frequencyDict[i] += 1\n",
    "    else:\n",
    "        frequencyDict[i] = 1\n",
    "            \n",
    "result = [key for key, value in frequencyDict.items() if value > k]\n",
    "print(f'The element that occured more than {k} times are: {result}')"
   ]
  },
  {
   "cell_type": "markdown",
   "metadata": {},
   "source": [
    "### 15) WAP to create a list of squared numbers from 0 to 9 with and without using List Comprehension."
   ]
  },
  {
   "cell_type": "code",
   "execution_count": 109,
   "metadata": {},
   "outputs": [
    {
     "name": "stdout",
     "output_type": "stream",
     "text": [
      "[0, 1, 4, 9, 16, 25, 36, 49, 64, 81]\n",
      "The list with square fom 0 to 9 is: [0, 1, 4, 9, 16, 25, 36, 49, 64, 81]\n"
     ]
    }
   ],
   "source": [
    "#With List Comprehension\n",
    "list = [i**2 for i in range(10)]\n",
    "print(list)\n",
    "\n",
    "#Without List Comprehension\n",
    "list = []\n",
    "for i in range(10):\n",
    "    list.append(i**2)\n",
    "\n",
    "print(f'The list with square fom 0 to 9 is: {list}')"
   ]
  },
  {
   "cell_type": "markdown",
   "metadata": {},
   "source": [
    "### 16) WAP to create a new list (fruit whose name starts with 'b') from the list of fruits given by user."
   ]
  },
  {
   "cell_type": "code",
   "execution_count": 113,
   "metadata": {},
   "outputs": [
    {
     "name": "stdin",
     "output_type": "stream",
     "text": [
      "Enter a fruit for list (Enter \"f\" to terminate):  apple\n",
      "Enter a fruit for list (Enter \"f\" to terminate):  banana\n",
      "Enter a fruit for list (Enter \"f\" to terminate):  orange\n",
      "Enter a fruit for list (Enter \"f\" to terminate):  f\n"
     ]
    },
    {
     "name": "stdout",
     "output_type": "stream",
     "text": [
      "Fruits whose names start with 'b': ['banana']\n"
     ]
    }
   ],
   "source": [
    "fruit_list = []\n",
    "flag = True\n",
    "while flag == True:\n",
    "    element = input('Enter a fruit for list (Enter \"f\" to terminate): ')\n",
    "    if element == 'f':\n",
    "        break\n",
    "    fruit_list.append(element)\n",
    "\n",
    "b_fruits = [i for i in fruit_list if i.lower().startswith('b')]\n",
    "print(f\"Fruits whose names start with 'b': {b_fruits}\")"
   ]
  },
  {
   "cell_type": "markdown",
   "metadata": {},
   "source": [
    "### 17) WAP to create a list of common elements from given two lists."
   ]
  },
  {
   "cell_type": "code",
   "execution_count": 1,
   "metadata": {},
   "outputs": [
    {
     "name": "stdin",
     "output_type": "stream",
     "text": [
      "Enter a element for list1 (Enter \"f\" to terminate):  1\n",
      "Enter a element for list1 (Enter \"f\" to terminate):  2\n",
      "Enter a element for list1 (Enter \"f\" to terminate):  3\n",
      "Enter a element for list1 (Enter \"f\" to terminate):  4\n",
      "Enter a element for list1 (Enter \"f\" to terminate):  5\n",
      "Enter a element for list1 (Enter \"f\" to terminate):  f\n",
      "Enter a element for list2 (Enter \"f\" to terminate):  4\n",
      "Enter a element for list2 (Enter \"f\" to terminate):  5\n",
      "Enter a element for list2 (Enter \"f\" to terminate):  6\n",
      "Enter a element for list2 (Enter \"f\" to terminate):  7\n",
      "Enter a element for list2 (Enter \"f\" to terminate):  8\n",
      "Enter a element for list2 (Enter \"f\" to terminate):  f\n"
     ]
    },
    {
     "name": "stdout",
     "output_type": "stream",
     "text": [
      "Enter common elements in both list are: [4, 5]\n"
     ]
    }
   ],
   "source": [
    "list1 = []\n",
    "flag = True\n",
    "while flag == True:\n",
    "    element = input('Enter a element for list1 (Enter \"f\" to terminate): ')\n",
    "    if element == 'f':\n",
    "        break\n",
    "    else:\n",
    "        element = int(element)\n",
    "    list1.append(element)\n",
    "\n",
    "list2 = []\n",
    "flag = True\n",
    "while flag == True:\n",
    "    element = input('Enter a element for list2 (Enter \"f\" to terminate): ')\n",
    "    if element == 'f':\n",
    "        break\n",
    "    else:\n",
    "        element = int(element)\n",
    "    list2.append(element)\n",
    "\n",
    "common = [element for element in list1 if element in list2]\n",
    "print(f'Enter common elements in both list are: {common}')"
   ]
  }
 ],
 "metadata": {
  "kernelspec": {
   "display_name": "Python 3 (ipykernel)",
   "language": "python",
   "name": "python3"
  },
  "language_info": {
   "codemirror_mode": {
    "name": "ipython",
    "version": 3
   },
   "file_extension": ".py",
   "mimetype": "text/x-python",
   "name": "python",
   "nbconvert_exporter": "python",
   "pygments_lexer": "ipython3",
   "version": "3.12.7"
  }
 },
 "nbformat": 4,
 "nbformat_minor": 4
}
