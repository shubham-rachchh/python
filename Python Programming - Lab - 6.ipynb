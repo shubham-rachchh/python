{
 "cells": [
  {
   "attachments": {},
   "cell_type": "markdown",
   "metadata": {},
   "source": [
    "<a href='https://www.darshan.ac.in/'> <img src='https://www.darshan.ac.in/Content/media/DU_Logo.svg' width=\"250\" height=\"300\"/></a>\n",
    "<pre>\n",
    "<center><b><h1>Python Programming - 2301CS404</b></center>\n",
    "<center><b><h1>MALAY PANARA | 23010101184 | 01/01/2025</b></center>\n",
    "<center><b><h1>Lab - 6</b></center>    \n",
    "<pre>"
   ]
  },
  {
   "cell_type": "markdown",
   "metadata": {},
   "source": [
    "# Tuple"
   ]
  },
  {
   "cell_type": "markdown",
   "metadata": {},
   "source": [
    "### 01) WAP to find sum of tuple elements."
   ]
  },
  {
   "cell_type": "code",
   "execution_count": 2,
   "metadata": {},
   "outputs": [
    {
     "name": "stdout",
     "output_type": "stream",
     "text": [
      "45\n"
     ]
    }
   ],
   "source": [
    "t1=(1,2,3,4,5,6,7,8,9)\n",
    "t2=sum(t1)\n",
    "print(t2)"
   ]
  },
  {
   "cell_type": "markdown",
   "metadata": {},
   "source": [
    "### 02) WAP to find Maximum and Minimum K elements in a given tuple."
   ]
  },
  {
   "cell_type": "code",
   "execution_count": 4,
   "metadata": {},
   "outputs": [
    {
     "name": "stdin",
     "output_type": "stream",
     "text": [
      "Enter the value of K:  3\n"
     ]
    },
    {
     "name": "stdout",
     "output_type": "stream",
     "text": [
      "Minimum elements:[1, 2, 3]\n",
      "Miximum elements:[7, 8, 9]\n"
     ]
    }
   ],
   "source": [
    "t1=(1,2,3,4,5,6,7,8,9)\n",
    "k = int(input(\"Enter the value of K: \"))\n",
    "sorted_t1 = sorted(t1)\n",
    "minElements = sorted_t1[:k]\n",
    "maxElements = sorted_t1[-k:]\n",
    "print(f'Minimum elements:{minElements}');\n",
    "print(f'Miximum elements:{maxElements}');"
   ]
  },
  {
   "cell_type": "markdown",
   "metadata": {},
   "source": [
    "### 03) WAP to find tuples which have all elements divisible by K from a list of tuples."
   ]
  },
  {
   "cell_type": "code",
   "execution_count": 6,
   "metadata": {},
   "outputs": [
    {
     "name": "stdin",
     "output_type": "stream",
     "text": [
      "Enter the value of K:  5\n"
     ]
    },
    {
     "name": "stdout",
     "output_type": "stream",
     "text": [
      "Tuples with all elements divisible by 5 are: [(5, 10, 15), (10, 20, 30)]\n"
     ]
    }
   ],
   "source": [
    "tuple_list = [(12, 24, 36), (5, 10, 15), (3, 6, 9), (4, 8, 12), (10, 20, 30)]\n",
    "k = int(input(\"Enter the value of K: \"))\n",
    "result = []\n",
    "for tup in tuple_list:\n",
    "    if all(i % k == 0 for i in tup):\n",
    "        result.append(tup)\n",
    "\n",
    "print(f\"Tuples with all elements divisible by {k} are: {result}\")"
   ]
  },
  {
   "cell_type": "markdown",
   "metadata": {},
   "source": [
    "### 04) WAP to create a list of tuples from given list having number and its cube in each tuple."
   ]
  },
  {
   "cell_type": "code",
   "execution_count": 18,
   "metadata": {},
   "outputs": [
    {
     "name": "stdin",
     "output_type": "stream",
     "text": [
      "Enter a element for list (Enter \"f\" to terminate):  1\n",
      "Enter a element for list (Enter \"f\" to terminate):  2\n",
      "Enter a element for list (Enter \"f\" to terminate):  3\n",
      "Enter a element for list (Enter \"f\" to terminate):  4\n",
      "Enter a element for list (Enter \"f\" to terminate):  5\n",
      "Enter a element for list (Enter \"f\" to terminate):  6\n",
      "Enter a element for list (Enter \"f\" to terminate):  f\n"
     ]
    },
    {
     "name": "stdout",
     "output_type": "stream",
     "text": [
      "List of tuples with number and its cube: [(1, 1), (2, 8), (3, 27), (4, 64), (5, 125), (6, 216)]\n"
     ]
    }
   ],
   "source": [
    "l1 = []\n",
    "while True:\n",
    "    element = input('Enter a element for list (Enter \"f\" to terminate): ')\n",
    "    if element == 'f':\n",
    "        break\n",
    "    else:\n",
    "        element = int(element)\n",
    "    l1.append(element)\n",
    "\n",
    "result = [(num, num**3) for num in l1]\n",
    "\n",
    "print(f\"List of tuples with number and its cube: {result}\")"
   ]
  },
  {
   "cell_type": "markdown",
   "metadata": {},
   "source": [
    "### 05) WAP to find tuples with all positive elements from the given list of tuples."
   ]
  },
  {
   "cell_type": "code",
   "execution_count": 22,
   "metadata": {},
   "outputs": [
    {
     "name": "stdout",
     "output_type": "stream",
     "text": [
      "Tuples with all positive elements: [(12, 24, 36), (3, 6, 9), (10, 20, 30)]\n"
     ]
    }
   ],
   "source": [
    "t1 = [(12, 24, 36), (-5, 10, 15), (3, 6, 9), (4, -8, 12), (10, 20, 30)]\n",
    "\n",
    "result = []\n",
    "for tup in t1:\n",
    "    if all(i > 0 for i in tup):\n",
    "        result.append(tup)\n",
    "\n",
    "print(f\"Tuples with all positive elements: {result}\")"
   ]
  },
  {
   "cell_type": "markdown",
   "metadata": {},
   "source": [
    "### 06) WAP to add tuple to list and vice – versa."
   ]
  },
  {
   "cell_type": "code",
   "execution_count": 24,
   "metadata": {},
   "outputs": [
    {
     "name": "stdout",
     "output_type": "stream",
     "text": [
      "List after adding tuple: [1, 2, 3, 4, (5, 6, 7)]\n",
      "Tuple after adding list: (5, 6, 7, 1, 2, 3, 4, (5, 6, 7))\n"
     ]
    }
   ],
   "source": [
    "l1 = [1, 2, 3, 4]\n",
    "t1 = (5, 6, 7)\n",
    "\n",
    "l1.append(t1)\n",
    "print(\"List after adding tuple:\", l1)\n",
    "\n",
    "t2 = tuple(l1)\n",
    "t3 = t1 + tuple(l1)\n",
    "print(\"Tuple after adding list:\", t3)"
   ]
  },
  {
   "cell_type": "markdown",
   "metadata": {},
   "source": [
    "### 07) WAP to remove tuples of length K."
   ]
  },
  {
   "cell_type": "code",
   "execution_count": 32,
   "metadata": {},
   "outputs": [
    {
     "name": "stdin",
     "output_type": "stream",
     "text": [
      "Enter the value of K:  3\n"
     ]
    },
    {
     "name": "stdout",
     "output_type": "stream",
     "text": [
      "List after removing tuples of length 3: [(4, 5), (6, 7, 8, 9), (10, 11)]\n"
     ]
    }
   ],
   "source": [
    "tuple_list = [(1, 2, 3), (4, 5), (6, 7, 8, 9), (10, 11), (12, 13, 14)]\n",
    "k = int(input(\"Enter the value of K: \"))\n",
    "\n",
    "filtered_list = [tup for tup in tuple_list if len(tup) != k]\n",
    "print(f\"List after removing tuples of length {k}: {filtered_list}\")"
   ]
  },
  {
   "cell_type": "markdown",
   "metadata": {},
   "source": [
    "### 08) WAP to remove duplicates from tuple."
   ]
  },
  {
   "cell_type": "code",
   "execution_count": 36,
   "metadata": {},
   "outputs": [
    {
     "name": "stdout",
     "output_type": "stream",
     "text": [
      "(1, 2, 3, 4, 5, 6, 7)\n"
     ]
    }
   ],
   "source": [
    "t1=(1,1,1,2,3,3,3,4,4,5,6,6,6,7)\n",
    "t2=set(t1)\n",
    "print(tuple(t2))"
   ]
  },
  {
   "cell_type": "markdown",
   "metadata": {},
   "source": [
    "### 09) WAP to multiply adjacent elements of a tuple and print that resultant tuple."
   ]
  },
  {
   "cell_type": "code",
   "execution_count": 38,
   "metadata": {},
   "outputs": [
    {
     "name": "stdout",
     "output_type": "stream",
     "text": [
      "Resultant tuple after multiplying adjacent elements: (2, 6, 12, 20, 30, 42, 56, 72, 90, 110, 242, 726, 1452, 2420, 3630, 5082, 6776, 8712, 9900)\n"
     ]
    }
   ],
   "source": [
    "t1=(1,2,3,4,5,6,7,8,9,10,11,22,33,44,55,66,77,88,99,100)\n",
    "result = []\n",
    "for i in range(len(t1) - 1):\n",
    "    product = t1[i] * t1[i + 1]\n",
    "    result.append(product)\n",
    "result_tuple = tuple(result)\n",
    "\n",
    "print(f\"Resultant tuple after multiplying adjacent elements: {result_tuple}\")"
   ]
  },
  {
   "cell_type": "markdown",
   "metadata": {},
   "source": [
    "### 10) WAP to test if the given tuple is distinct or not."
   ]
  },
  {
   "cell_type": "code",
   "execution_count": 40,
   "metadata": {},
   "outputs": [
    {
     "name": "stdout",
     "output_type": "stream",
     "text": [
      "Tuple is not distinct!!!\n"
     ]
    }
   ],
   "source": [
    "t1=(1,1,1,1,2,2,2,3,3,3,3,3,4,5,6,7,8,9,9,9,9,9,10)\n",
    "t2=set(t1)\n",
    "if len(t1)==len(t2):\n",
    "    print(\"Tuple is distinct!!!\")\n",
    "else:\n",
    "    print(\"Tuple is not distinct!!!\")"
   ]
  }
 ],
 "metadata": {
  "kernelspec": {
   "display_name": "Python 3 (ipykernel)",
   "language": "python",
   "name": "python3"
  },
  "language_info": {
   "codemirror_mode": {
    "name": "ipython",
    "version": 3
   },
   "file_extension": ".py",
   "mimetype": "text/x-python",
   "name": "python",
   "nbconvert_exporter": "python",
   "pygments_lexer": "ipython3",
   "version": "3.12.7"
  }
 },
 "nbformat": 4,
 "nbformat_minor": 4
}
