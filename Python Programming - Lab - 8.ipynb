{
 "cells": [
  {
   "cell_type": "markdown",
   "metadata": {},
   "source": [
    "<a href='https://www.darshan.ac.in/'> <img src='https://www.darshan.ac.in/Content/media/DU_Logo.svg' width=\"250\" height=\"300\"/></a>\n",
    "<pre>\n",
    "<center><b><h1>Python Programming - 2301CS404</b></center>\n",
    "<center><b><h1>MALAY PANARA | 23010101184 | 15-01-2025</b></center>\n",
    "<center><b><h1>Lab - 8</b></center>    \n",
    "<pre>"
   ]
  },
  {
   "cell_type": "markdown",
   "metadata": {},
   "source": [
    "# User Defined Function"
   ]
  },
  {
   "cell_type": "markdown",
   "metadata": {},
   "source": [
    "### 01) Write a function to calculate BMI given mass and height. (BMI = mass/h**2)"
   ]
  },
  {
   "cell_type": "code",
   "execution_count": 31,
   "metadata": {},
   "outputs": [
    {
     "data": {
      "text/plain": [
       "17.28395061728395"
      ]
     },
     "execution_count": 31,
     "metadata": {},
     "output_type": "execute_result"
    }
   ],
   "source": [
    "def BMI(weight,height):\n",
    "    bmi=weight/(height**2);\n",
    "    return bmi\n",
    "    \n",
    "BMI(56,1.80)"
   ]
  },
  {
   "cell_type": "markdown",
   "metadata": {},
   "source": [
    "### 02) Write a function that add first n numbers."
   ]
  },
  {
   "cell_type": "code",
   "execution_count": 41,
   "metadata": {},
   "outputs": [
    {
     "data": {
      "text/plain": [
       "15"
      ]
     },
     "execution_count": 41,
     "metadata": {},
     "output_type": "execute_result"
    }
   ],
   "source": [
    "def add(n):\n",
    "    sum=0\n",
    "    for i in range(1,n+1):\n",
    "        sum=sum+i\n",
    "    return sum\n",
    "\n",
    "add(5)"
   ]
  },
  {
   "cell_type": "markdown",
   "metadata": {},
   "source": [
    "### 03) Write a function that returns 1 if the given number is Prime or 0 otherwise."
   ]
  },
  {
   "cell_type": "code",
   "execution_count": 61,
   "metadata": {},
   "outputs": [
    {
     "data": {
      "text/plain": [
       "1"
      ]
     },
     "execution_count": 61,
     "metadata": {},
     "output_type": "execute_result"
    }
   ],
   "source": [
    "def prime(a):\n",
    "    if(a==0 or a==1):\n",
    "        return 0;\n",
    "    elif(a>1):\n",
    "        for i in range(2,a):\n",
    "            if(a%i==0):\n",
    "                return 0\n",
    "        else:\n",
    "            return 1\n",
    "\n",
    "prime(43)"
   ]
  },
  {
   "cell_type": "markdown",
   "metadata": {},
   "source": [
    "### 04) Write a function that returns the list of Prime numbers between given two numbers."
   ]
  },
  {
   "cell_type": "code",
   "execution_count": 68,
   "metadata": {},
   "outputs": [
    {
     "name": "stdout",
     "output_type": "stream",
     "text": [
      "[2, 3, 5, 7]\n"
     ]
    }
   ],
   "source": [
    "li=[]\n",
    "def Primeno(a,b):\n",
    "    for i in range(a,b):\n",
    "        if(prime(i)):\n",
    "            li.append(i)\n",
    "Primeno(1,10)\n",
    "print(li)"
   ]
  },
  {
   "cell_type": "markdown",
   "metadata": {},
   "source": [
    "### 05) Write a function that returns True if the given string is Palindrome or False otherwise."
   ]
  },
  {
   "cell_type": "code",
   "execution_count": 91,
   "metadata": {},
   "outputs": [
    {
     "name": "stdin",
     "output_type": "stream",
     "text": [
      "Enter a string: lol\n"
     ]
    },
    {
     "data": {
      "text/plain": [
       "True"
      ]
     },
     "execution_count": 91,
     "metadata": {},
     "output_type": "execute_result"
    }
   ],
   "source": [
    "st=input(\"Enter a string:\")\n",
    "def palindrome(st):\n",
    "    if(st[::-1]==st):\n",
    "        return True\n",
    "    else:\n",
    "        return False\n",
    "palindrome(st)"
   ]
  },
  {
   "cell_type": "markdown",
   "metadata": {},
   "source": [
    "### 06) Write a function that returns the sum of all the elements of the list."
   ]
  },
  {
   "cell_type": "code",
   "execution_count": 93,
   "metadata": {},
   "outputs": [
    {
     "data": {
      "text/plain": [
       "45"
      ]
     },
     "execution_count": 93,
     "metadata": {},
     "output_type": "execute_result"
    }
   ],
   "source": [
    "li=[1,2,3,4,5,6,7,8,9]\n",
    "def ans():\n",
    "    Sum=sum(li)\n",
    "    return Sum\n",
    "ans()"
   ]
  },
  {
   "cell_type": "markdown",
   "metadata": {},
   "source": [
    "### 07) Write a function to calculate the sum of the first element of each tuples inside the list."
   ]
  },
  {
   "cell_type": "code",
   "execution_count": 107,
   "metadata": {},
   "outputs": [
    {
     "name": "stdout",
     "output_type": "stream",
     "text": [
      "11\n"
     ]
    }
   ],
   "source": [
    "li=[(0,1,2),(4,5,6),(7,8,9)]\n",
    "def listsum():\n",
    "    sum=0\n",
    "    for i,j,k in li:\n",
    "            sum=sum+i\n",
    "    print(sum)\n",
    "listsum()"
   ]
  },
  {
   "cell_type": "markdown",
   "metadata": {},
   "source": [
    "### 08) Write a recursive function to find nth term of Fibonacci Series."
   ]
  },
  {
   "cell_type": "code",
   "execution_count": 157,
   "metadata": {},
   "outputs": [
    {
     "name": "stdout",
     "output_type": "stream",
     "text": [
      "89\n"
     ]
    }
   ],
   "source": [
    "def fibonacci(a,b,n):\n",
    "    if n==1:\n",
    "        return a\n",
    "    return fibonacci(b,a+b,n-1)\n",
    "\n",
    "print(fibonacci(0,1,12))"
   ]
  },
  {
   "cell_type": "markdown",
   "metadata": {},
   "source": [
    "### 09) Write a function to get the name of the student based on the given rollno.\n",
    "#### Example: Given dict1 = {101:'Ajay', 102:'Rahul', 103:'Jay', 104:'Pooja'} find name of student whose rollno = 103"
   ]
  },
  {
   "cell_type": "code",
   "execution_count": 31,
   "metadata": {},
   "outputs": [
    {
     "name": "stdout",
     "output_type": "stream",
     "text": [
      "Jay\n"
     ]
    }
   ],
   "source": [
    "dict1 = {101:'Ajay', 102:'Rahul', 103:'Jay', 104:'Pooja'}\n",
    "def nameofstudent(n):\n",
    "    a=dict1.get(n)\n",
    "    return a\n",
    "\n",
    "result=nameofstudent(103)\n",
    "print(result)"
   ]
  },
  {
   "cell_type": "markdown",
   "metadata": {},
   "source": [
    "### 10) Write a function to get the sum of the scores ending with zero.\n",
    "#### Example : scores = [200, 456, 300, 100, 234, 678] \n",
    "#### Ans = 200 + 300 + 100 = 600"
   ]
  },
  {
   "cell_type": "code",
   "execution_count": 17,
   "metadata": {},
   "outputs": [
    {
     "name": "stdout",
     "output_type": "stream",
     "text": [
      "600\n"
     ]
    }
   ],
   "source": [
    "scores = [200, 456, 300, 100, 234, 678]\n",
    "def sumofScores(scores):\n",
    "    total=0\n",
    "    for i in scores:\n",
    "        if i%10==0:\n",
    "            total+=i\n",
    "    return total\n",
    "\n",
    "result=sumofScores(scores)\n",
    "print(result)"
   ]
  },
  {
   "cell_type": "markdown",
   "metadata": {},
   "source": [
    "### 11) Write a function to invert a given Dictionary.\n",
    "#### hint: keys to values & values to keys\n",
    "#### Before : {'a': 10, 'b':20, 'c':30, 'd':40}\n",
    "#### After : {10:'a', 20:'b', 30:'c', 40:'d'}"
   ]
  },
  {
   "cell_type": "code",
   "execution_count": 39,
   "metadata": {},
   "outputs": [
    {
     "data": {
      "text/plain": [
       "{10: 'a', 20: 'b', 30: 'c', 40: 'd'}"
      ]
     },
     "execution_count": 39,
     "metadata": {},
     "output_type": "execute_result"
    }
   ],
   "source": [
    "ini_dict={'a': 10, 'b':20, 'c':30, 'd':40}\n",
    "def invertDictonary(ini_dict):\n",
    "    inv_dict = dict(zip(ini_dict.values(), ini_dict.keys()))\n",
    "    return inv_dict\n",
    "\n",
    "invertDictonary(ini_dict)"
   ]
  },
  {
   "cell_type": "markdown",
   "metadata": {},
   "source": [
    "### 12) Write a function to check whether the given string is Pangram or not.\n",
    "#### hint: Pangram is a string containing all the characters a-z atlest once.\n",
    "#### \"the quick brown fox jumps over the lazy dog\" is a Pangram string."
   ]
  },
  {
   "cell_type": "code",
   "execution_count": 53,
   "metadata": {},
   "outputs": [
    {
     "name": "stdout",
     "output_type": "stream",
     "text": [
      "The string is a pangram\n"
     ]
    }
   ],
   "source": [
    "string=\"the quick brown fox jumps over the lazy dog\"\n",
    "\n",
    "def pangram(string):\n",
    "    string=string.replace(\" \",\"\")\n",
    "    string=string.lower()\n",
    "    x=list(set(string))\n",
    "    x.sort()\n",
    "    x=\"\".join(x)\n",
    "    alphabets=\"abcdefghijklmnopqrstuvwxyz\"\n",
    "    if(x==alphabets):\n",
    "        print(\"The string is a pangram\")\n",
    "    else:\n",
    "        print(\"The string is not a pangram\")\n",
    "\n",
    "pangram(string)"
   ]
  },
  {
   "cell_type": "markdown",
   "metadata": {},
   "source": [
    "### 13) Write a function that returns the number of uppercase and lowercase letters in the given string. \n",
    "#### example : Input : s1 = AbcDEfgh ,Ouptput : no_upper = 3, no_lower = 5"
   ]
  },
  {
   "cell_type": "code",
   "execution_count": 65,
   "metadata": {},
   "outputs": [
    {
     "name": "stdout",
     "output_type": "stream",
     "text": [
      "Lower case are:5\n",
      "Upper case are:3\n"
     ]
    }
   ],
   "source": [
    "s1 = \"AbcDEfgh\"\n",
    "def countUPLW(s1):\n",
    "    lower=0\n",
    "    upper=0\n",
    "    for i in s1:\n",
    "        if i.islower():\n",
    "            lower+=1\n",
    "        else:\n",
    "            upper+=1\n",
    "    print(f\"Lower case are:{lower}\")\n",
    "    print(f\"Upper case are:{upper}\")\n",
    "\n",
    "countUPLW(s1)"
   ]
  },
  {
   "cell_type": "markdown",
   "metadata": {},
   "source": [
    "### 14) Write a lambda function to get smallest number from the given two numbers."
   ]
  },
  {
   "cell_type": "code",
   "execution_count": 67,
   "metadata": {},
   "outputs": [
    {
     "name": "stdout",
     "output_type": "stream",
     "text": [
      "5\n"
     ]
    }
   ],
   "source": [
    "min_number = lambda a, b : min(a,b) \n",
    "\n",
    "print(min_number(5, 8))"
   ]
  },
  {
   "cell_type": "markdown",
   "metadata": {},
   "source": [
    "### 15) For the given list of names of students, extract the names having more that 7 characters. Use filter()."
   ]
  },
  {
   "cell_type": "code",
   "execution_count": 3,
   "metadata": {},
   "outputs": [
    {
     "name": "stdout",
     "output_type": "stream",
     "text": [
      "Alexander\n",
      "Benjamin\n",
      "Jonathan\n"
     ]
    }
   ],
   "source": [
    "students=['Alexander','Benjamin','Jonathan','Malay','Meet','Dhairya']\n",
    "def myFunc(x):\n",
    "  if len(x) > 7:\n",
    "    return True\n",
    "  else:\n",
    "    return False\n",
    "\n",
    "names = filter(myFunc, students)\n",
    "\n",
    "for x in names:\n",
    "  print(x)"
   ]
  },
  {
   "cell_type": "markdown",
   "metadata": {},
   "source": [
    "### 16) For the given list of names of students, convert the first letter of all the names into uppercase. use map()."
   ]
  },
  {
   "cell_type": "code",
   "execution_count": 62,
   "metadata": {},
   "outputs": [
    {
     "name": "stdout",
     "output_type": "stream",
     "text": [
      "['Alexander', 'Benjamin', 'Jonathan', 'Malay', 'Meet', 'Dhairya']\n"
     ]
    }
   ],
   "source": [
    "students = ['alexander', 'benjamin', 'jonathan', 'malay', 'meet', 'dhairya']\n",
    "\n",
    "def uppercaseusingMap(names):\n",
    "    return list(map(str.capitalize, names))\n",
    "\n",
    "result = uppercaseusingMap(students)\n",
    "print(result)"
   ]
  },
  {
   "cell_type": "markdown",
   "metadata": {},
   "source": [
    "### 17) Write udfs to call the functions with following types of arguments:\n",
    "1. Positional Arguments\n",
    "2. Keyword Arguments\n",
    "3. Default Arguments\n",
    "4. Variable Legngth Positional(*args) & variable length Keyword Arguments (**kwargs)\n",
    "5. Keyword-Only & Positional Only Arguments"
   ]
  },
  {
   "cell_type": "code",
   "execution_count": 92,
   "metadata": {},
   "outputs": [
    {
     "name": "stdout",
     "output_type": "stream",
     "text": [
      "Positional Arguments::\n",
      "Hi, I am Prince\n",
      "My age is  20\n",
      "\n",
      "Keyword Arguments::\n",
      "The youngest child is Jonathan\n",
      "\n",
      "Default Arguments::\n",
      "I am from India\n",
      "I am from Australia\n",
      "\n",
      "Variable Legngth Positional(*args) & variable length Keyword Arguments (**kwargs)::\n",
      "*args:The youngest child is Jonathan\n",
      "**kargs:His last name is benjamin\n",
      "\n",
      "Keyword-Only & Positional Only Arguments::\n"
     ]
    }
   ],
   "source": [
    "# Positional Arguments\n",
    "print(\"Positional Arguments::\")\n",
    "def nameAge(name, age):\n",
    "    print(\"Hi, I am\", name)\n",
    "    print(\"My age is \", age)\n",
    "\n",
    "nameAge(name=\"Prince\", age=20)\n",
    "print()\n",
    "\n",
    "# Keyword Arguments\n",
    "print(\"Keyword Arguments::\")\n",
    "def my_function(child3, child2, child1):\n",
    "  print(\"The youngest child is \" + child3)\n",
    "\n",
    "my_function(child1 = \"alexander\", child2 = \"benjamin\", child3 = \"Jonathan\")\n",
    "print()\n",
    "\n",
    "# Default Arguments\n",
    "print(\"Default Arguments::\")\n",
    "def my_function(country = \"India\"):\n",
    "  print(\"I am from \" + country)\n",
    "\n",
    "my_function()\n",
    "my_function(\"Australia\")\n",
    "print()\n",
    "\n",
    "# Variable Legngth Positional(*args) & variable length Keyword Arguments (**kwargs)\n",
    "print(\"Variable Legngth Positional(*args) & variable length Keyword Arguments (**kwargs)::\")\n",
    "# *args\n",
    "def my_function(*kids):\n",
    "  print(\"*args:The youngest child is \" + kids[2])\n",
    "\n",
    "my_function(\"alexander\", \"benjamin\", \"Jonathan\")\n",
    "#**kwargs\n",
    "def my_function(**kid):\n",
    "  print(\"**kargs:His last name is \" + kid[\"lname\"])\n",
    "\n",
    "my_function(fname = \"alexander\", lname = \"benjamin\")\n",
    "print()\n",
    "\n",
    "# Keyword-Only & Positional Only Arguments\n",
    "print(\"Keyword-Only & Positional Only Arguments::\")\n"
   ]
  }
 ],
 "metadata": {
  "kernelspec": {
   "display_name": "Python 3 (ipykernel)",
   "language": "python",
   "name": "python3"
  },
  "language_info": {
   "codemirror_mode": {
    "name": "ipython",
    "version": 3
   },
   "file_extension": ".py",
   "mimetype": "text/x-python",
   "name": "python",
   "nbconvert_exporter": "python",
   "pygments_lexer": "ipython3",
   "version": "3.12.7"
  }
 },
 "nbformat": 4,
 "nbformat_minor": 4
}
