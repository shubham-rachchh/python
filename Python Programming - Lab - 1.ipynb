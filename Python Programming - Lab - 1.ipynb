{
 "cells": [
  {
   "cell_type": "markdown",
   "metadata": {},
   "source": [
    "<a href='https://www.darshan.ac.in/'> <img src='https://www.darshan.ac.in/Content/media/DU_Logo.svg' width=\"250\" height=\"10\"/></a>\n",
    "<pre>\n",
    "<center><b><h1>Python Programming - 2301CS404</b></center>\n",
    "<center><b><h1>Lab - 1</b></center>\n",
    "<center><b><h1>Malay Panara | 23010101184 | 27/11/2024</b></center> \n",
    "<pre>"
   ]
  },
  {
   "cell_type": "markdown",
   "metadata": {},
   "source": [
    "### 01) WAP to print “Hello World”"
   ]
  },
  {
   "cell_type": "code",
   "execution_count": 1,
   "metadata": {},
   "outputs": [
    {
     "name": "stdout",
     "output_type": "stream",
     "text": [
      "Hello World!!!\n"
     ]
    }
   ],
   "source": [
    "print(\"Hello World!!!\")"
   ]
  },
  {
   "cell_type": "markdown",
   "metadata": {},
   "source": [
    "### 02) WAP to print addition of two numbers with and without using input()."
   ]
  },
  {
   "cell_type": "code",
   "execution_count": 2,
   "metadata": {},
   "outputs": [
    {
     "name": "stdin",
     "output_type": "stream",
     "text": [
      "Enter number 1:  2\n",
      "Enter number 2:  6\n"
     ]
    },
    {
     "name": "stdout",
     "output_type": "stream",
     "text": [
      "8\n",
      "30\n"
     ]
    }
   ],
   "source": [
    "a = int(input('Enter number 1: '))\n",
    "b = int(input('Enter number 2: '))\n",
    "print(a+b)\n",
    "\n",
    "c = 10\n",
    "d = 20\n",
    "print(c+d)"
   ]
  },
  {
   "cell_type": "markdown",
   "metadata": {},
   "source": [
    "### 03) WAP to check the type of the variable."
   ]
  },
  {
   "cell_type": "code",
   "execution_count": 4,
   "metadata": {},
   "outputs": [
    {
     "name": "stdout",
     "output_type": "stream",
     "text": [
      "<class 'int'>\n",
      "<class 'float'>\n",
      "<class 'str'>\n",
      "<class 'bool'>\n"
     ]
    }
   ],
   "source": [
    "a = 10\n",
    "b = 10.5\n",
    "c = 'Hello'\n",
    "d = True\n",
    "print(type(a))\n",
    "print(type(b))\n",
    "print(type(c))\n",
    "print(type(d))"
   ]
  },
  {
   "cell_type": "markdown",
   "metadata": {},
   "source": [
    "### 04) WAP to calculate simple interest."
   ]
  },
  {
   "cell_type": "code",
   "execution_count": 6,
   "metadata": {},
   "outputs": [
    {
     "name": "stdin",
     "output_type": "stream",
     "text": [
      "Enter the principle amount:  1000\n",
      "Enter the time period:  2\n",
      "Enter the rate of interest:  5\n"
     ]
    },
    {
     "name": "stdout",
     "output_type": "stream",
     "text": [
      "Simple interest is: 100.0\n"
     ]
    }
   ],
   "source": [
    "principle = float(input('Enter the principle amount: '))\n",
    "time = float(input('Enter the time period: '))\n",
    "rate = float(input('Enter the rate of interest: '))\n",
    "simpleInterest = (principle*time*rate)/100\n",
    "\n",
    "print('Simple interest is:', simpleInterest)"
   ]
  },
  {
   "cell_type": "markdown",
   "metadata": {},
   "source": [
    "### 05) WAP to calculate area and perimeter of a circle."
   ]
  },
  {
   "cell_type": "code",
   "execution_count": 8,
   "metadata": {},
   "outputs": [
    {
     "name": "stdin",
     "output_type": "stream",
     "text": [
      "Enter the radius of the circle:  7\n"
     ]
    },
    {
     "name": "stdout",
     "output_type": "stream",
     "text": [
      "Perimeter of the circle is: 43.982297150257104\n",
      "Area of the circle is: 153.93804002589985\n"
     ]
    }
   ],
   "source": [
    "import math\n",
    "r = float(input('Enter the radius of the circle: '))\n",
    "\n",
    "perimeter = 2*math.pi*r\n",
    "area = math.pi*r*r\n",
    "\n",
    "print('Perimeter of the circle is:', perimeter)\n",
    "print('Area of the circle is:', area)"
   ]
  },
  {
   "cell_type": "markdown",
   "metadata": {},
   "source": [
    "### 06) WAP to calculate area of a triangle."
   ]
  },
  {
   "cell_type": "code",
   "execution_count": 10,
   "metadata": {},
   "outputs": [
    {
     "name": "stdin",
     "output_type": "stream",
     "text": [
      "Enter the base of the triangle:  6\n",
      "Enter the height of the triangle:  8\n"
     ]
    },
    {
     "name": "stdout",
     "output_type": "stream",
     "text": [
      "Area of the triangle is: 24.0\n"
     ]
    }
   ],
   "source": [
    "base = float(input('Enter the base of the triangle: '))\n",
    "height = float(input('Enter the height of the triangle: '))\n",
    "area = 1/2 * (base* height)\n",
    "\n",
    "print('Area of the triangle is:', area)"
   ]
  },
  {
   "cell_type": "markdown",
   "metadata": {},
   "source": [
    "### 07) WAP to compute quotient and remainder."
   ]
  },
  {
   "cell_type": "code",
   "execution_count": 12,
   "metadata": {},
   "outputs": [
    {
     "name": "stdin",
     "output_type": "stream",
     "text": [
      "Enter number 1:  5\n",
      "Enter number 2:  3\n"
     ]
    },
    {
     "name": "stdout",
     "output_type": "stream",
     "text": [
      "Quotient is 1.6666666666666667\n",
      "Remainder is 2\n"
     ]
    }
   ],
   "source": [
    "a = int(input('Enter number 1: '))\n",
    "b = int(input('Enter number 2: '))\n",
    "\n",
    "print(f'Quotient is {a/b}')\n",
    "print(f'Remainder is {a%b}')"
   ]
  },
  {
   "cell_type": "markdown",
   "metadata": {},
   "source": [
    "### 08) WAP to convert degree into Fahrenheit and vice versa."
   ]
  },
  {
   "cell_type": "code",
   "execution_count": 14,
   "metadata": {},
   "outputs": [
    {
     "name": "stdin",
     "output_type": "stream",
     "text": [
      "Enter \"c\" for celcius or \"f\" for fahrenheit:  c\n",
      "Enter the temperature in fahrenheit:  32\n"
     ]
    },
    {
     "name": "stdout",
     "output_type": "stream",
     "text": [
      "32.0 degrees fahrenheit is equal to 0.0 degrees celcius\n"
     ]
    }
   ],
   "source": [
    "temp = input('Enter \"c\" for celcius or \"f\" for fahrenheit: ')\n",
    "if temp == c:\n",
    "    c = float(input('Enter the temperature in celcius: '))\n",
    "    f = c * (9/5) + 32\n",
    "    print(f'{c} degrees celcius is equal to {f} degrees fahrenheit')\n",
    "else:\n",
    "    f = float(input('Enter the temperature in fahrenheit: '))\n",
    "    c = (5/9) * (f-32)\n",
    "    print(f'{f} degrees fahrenheit is equal to {c} degrees celcius')"
   ]
  },
  {
   "cell_type": "markdown",
   "metadata": {},
   "source": [
    "### 09) WAP to find the distance between two points in 2-D space."
   ]
  },
  {
   "cell_type": "code",
   "execution_count": 16,
   "metadata": {},
   "outputs": [
    {
     "name": "stdout",
     "output_type": "stream",
     "text": [
      "Distance between 2 points in 2-D space is 5.0\n"
     ]
    }
   ],
   "source": [
    "x1, x2 = 1, 4\n",
    "y1, y2 = 2, 6\n",
    "\n",
    "distance = math.sqrt((x2 - x1)**2 + (y2 - y1)**2)\n",
    "print(f'Distance between 2 points in 2-D space is {distance}')"
   ]
  },
  {
   "cell_type": "markdown",
   "metadata": {},
   "source": [
    "### 10) WAP to print sum of n natural numbers."
   ]
  },
  {
   "cell_type": "code",
   "execution_count": 18,
   "metadata": {},
   "outputs": [
    {
     "name": "stdin",
     "output_type": "stream",
     "text": [
      "Enter any natural number:  5\n"
     ]
    },
    {
     "name": "stdout",
     "output_type": "stream",
     "text": [
      "Sum of first 5 natural numbers is 15\n"
     ]
    }
   ],
   "source": [
    "n = int(input('Enter any natural number: '))\n",
    "sum = 0\n",
    "for i in range(n+1):\n",
    "    sum += i\n",
    "\n",
    "print(f'Sum of first {n} natural numbers is {sum}')"
   ]
  },
  {
   "cell_type": "markdown",
   "metadata": {},
   "source": [
    "### 11) WAP to print sum of square of n natural numbers."
   ]
  },
  {
   "cell_type": "code",
   "execution_count": 20,
   "metadata": {},
   "outputs": [
    {
     "name": "stdin",
     "output_type": "stream",
     "text": [
      "Enter any natural number:  8\n"
     ]
    },
    {
     "name": "stdout",
     "output_type": "stream",
     "text": [
      "Sum of square of first 8 natural numbers is 204\n"
     ]
    }
   ],
   "source": [
    "n = int(input('Enter any natural number: '))\n",
    "sum = 0\n",
    "for i in range(n+1):\n",
    "    sum += (i*i)\n",
    "\n",
    "print(f'Sum of square of first {n} natural numbers is {sum}')"
   ]
  },
  {
   "cell_type": "markdown",
   "metadata": {},
   "source": [
    "### 12) WAP to concate the first and last name of the student."
   ]
  },
  {
   "cell_type": "code",
   "execution_count": 22,
   "metadata": {},
   "outputs": [
    {
     "name": "stdin",
     "output_type": "stream",
     "text": [
      "Enter your first name:  Malay\n",
      "Enter your last name:  Panara\n"
     ]
    },
    {
     "name": "stdout",
     "output_type": "stream",
     "text": [
      "Your full name is Malay Panara\n"
     ]
    }
   ],
   "source": [
    "first = input('Enter your first name: ')\n",
    "last = input('Enter your last name: ')\n",
    "name = first + ' ' + last\n",
    "print(f'Your full name is {name}')"
   ]
  },
  {
   "cell_type": "markdown",
   "metadata": {},
   "source": [
    "### 13) WAP to swap two numbers."
   ]
  },
  {
   "cell_type": "code",
   "execution_count": 24,
   "metadata": {},
   "outputs": [
    {
     "name": "stdout",
     "output_type": "stream",
     "text": [
      "a is 5 and b is 10\n",
      "a is 10 and b is 5\n"
     ]
    }
   ],
   "source": [
    "a, b = 5, 10\n",
    "print(f'a is {a} and b is {b}')\n",
    "a, b = b, a\n",
    "print(f'a is {a} and b is {b}')"
   ]
  },
  {
   "cell_type": "markdown",
   "metadata": {},
   "source": [
    "### 14) WAP to get the distance from user into kilometer, and convert it into meter, feet, inches and centimeter."
   ]
  },
  {
   "cell_type": "code",
   "execution_count": 26,
   "metadata": {},
   "outputs": [
    {
     "name": "stdin",
     "output_type": "stream",
     "text": [
      "Enter distance in kilometer:  8\n"
     ]
    },
    {
     "name": "stdout",
     "output_type": "stream",
     "text": [
      "The distance in meter is 8000.0 meters\n",
      "The distance in feet is 26246.72 feet\n",
      "The distance in inches is 314960.64 inches\n",
      "The distance in centimeters is 800000.0 centimeters\n"
     ]
    }
   ],
   "source": [
    "distance = float(input('Enter distance in kilometer: '))\n",
    "print(f'The distance in meter is {distance * 1000} meters')\n",
    "print(f'The distance in feet is {distance * 3280.84} feet')\n",
    "print(f'The distance in inches is {distance * 39370.08} inches')\n",
    "print(f'The distance in centimeters is {distance * 100000} centimeters')"
   ]
  },
  {
   "cell_type": "markdown",
   "metadata": {},
   "source": [
    "### 15) WAP to get day, month and year from the user and print the date in the given format: 23-11-2024."
   ]
  },
  {
   "cell_type": "code",
   "execution_count": 28,
   "metadata": {},
   "outputs": [
    {
     "name": "stdin",
     "output_type": "stream",
     "text": [
      "Enter the day:  5\n",
      "Enter the month:  6\n",
      "Enter the year:  2025\n"
     ]
    },
    {
     "name": "stdout",
     "output_type": "stream",
     "text": [
      "The date is 5-6-2025\n"
     ]
    }
   ],
   "source": [
    "day = int(input('Enter the day: '))\n",
    "month = int(input('Enter the month: '))\n",
    "year = int(input('Enter the year: '))\n",
    "\n",
    "print(f'The date is {day}-{month}-{year}')"
   ]
  },
  {
   "cell_type": "code",
   "execution_count": null,
   "metadata": {},
   "outputs": [],
   "source": []
  }
 ],
 "metadata": {
  "kernelspec": {
   "display_name": "Python 3 (ipykernel)",
   "language": "python",
   "name": "python3"
  },
  "language_info": {
   "codemirror_mode": {
    "name": "ipython",
    "version": 3
   },
   "file_extension": ".py",
   "mimetype": "text/x-python",
   "name": "python",
   "nbconvert_exporter": "python",
   "pygments_lexer": "ipython3",
   "version": "3.12.7"
  },
  "vscode": {
   "interpreter": {
    "hash": "31f2aee4e71d21fbe5cf8b01ff0e069b9275f58929596ceb00d14d90e3e16cd6"
   }
  }
 },
 "nbformat": 4,
 "nbformat_minor": 4
}
